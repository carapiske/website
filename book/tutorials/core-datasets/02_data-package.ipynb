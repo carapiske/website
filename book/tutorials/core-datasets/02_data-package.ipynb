{
 "cells": [
  {
   "cell_type": "markdown",
   "id": "union-migration",
   "metadata": {},
   "source": [
    "# Depths and Snow Pit Data Package Contents\n",
    "\n",
    "(12 minutes)\n",
    "\n",
    "Learning Objectives:\n",
    "- Tools to access data.\n",
    "- Code snippets to extract and prep data."
   ]
  },
  {
   "cell_type": "code",
   "execution_count": 1,
   "id": "cooperative-incidence",
   "metadata": {},
   "outputs": [],
   "source": [
    "# standard imports\n",
    "import os\n",
    "from pathlib import Path\n",
    "import glob\n",
    "import pandas as pd\n",
    "import numpy as np\n",
    "\n",
    "#plotting imports\n",
    "import matplotlib as mpl\n",
    "import matplotlib.pyplot as plt\n",
    "plt.style.use(['seaborn-notebook'])\n",
    "\n",
    "# unique imports\n",
    "import s3fs #access data from the AWS s3 bucket"
   ]
  },
  {
   "cell_type": "markdown",
   "id": "aging-martial",
   "metadata": {},
   "source": [
    "## Download snow depth data from NSIDC\n",
    "From the SnowEx20 [Depth Probe Landing Page](https://nsidc.org/data/SNEX20_SD/versions/1), you can download data and access the [User's Guide](https://nsidc.org/sites/nsidc.org/files/SNEX20_SD-V001-UserGuide_1.pdf)\n",
    "<img src=\"images/SD-landingPage.png\">\n",
    "\n",
    "The Community Snow Depth Probe data package is a single CSV with over 36,000 geolocated snow depths! Three different instrument types were used to measure depths and are recorded in the Measurement Tool column."
   ]
  },
  {
   "cell_type": "markdown",
   "id": "improved-notebook",
   "metadata": {},
   "source": [
    "## Method 1: Programmatically download snow depth data from NSIDC"
   ]
  },
  {
   "cell_type": "code",
   "execution_count": null,
   "id": "provincial-terrorist",
   "metadata": {},
   "outputs": [],
   "source": [
    "%run './scripts/nsidc-download_SNEX20_SD.001.py' \n",
    "print('Grand Mesa 2020 Snow Depth data download complete') "
   ]
  },
  {
   "cell_type": "code",
   "execution_count": null,
   "id": "independent-deployment",
   "metadata": {},
   "outputs": [],
   "source": [
    "# show filename:\n",
    "path = Path('./data/depths/')\n",
    "\n",
    "for filename in path.glob('*.csv'):\n",
    "    print(filename.name)"
   ]
  },
  {
   "cell_type": "markdown",
   "id": "disabled-emerald",
   "metadata": {},
   "source": [
    "## Method 2: Access data from our shared resources server\n",
    "Quick and easy access for hackweek or if you haven't gone through the steps to [configure programmatic access](https://snowex-hackweek.github.io/website/preliminary/earthdata.html#configure-programmatic-access-to-nasa-servers) to NASA servers yet. This pulls data from our AWS, S3 bucket"
   ]
  },
  {
   "cell_type": "code",
   "execution_count": null,
   "id": "humanitarian-danger",
   "metadata": {},
   "outputs": [],
   "source": [
    "# Uses AWS credentials on machine\n",
    "fs = s3fs.S3FileSystem() \n",
    "\n",
    "# which data bucket?\n",
    "bucket = 'snowex-data'  \n",
    "      \n",
    "# contents inside /depths     \n",
    "flist = fs.ls(f'{bucket}/tutorial-data/core-datasets/depths') \n",
    "\n",
    "# show list of files\n",
    "print('File list is: ', flist)"
   ]
  },
  {
   "cell_type": "markdown",
   "id": "dramatic-boring",
   "metadata": {},
   "source": [
    "### Read the Depth File"
   ]
  },
  {
   "cell_type": "code",
   "execution_count": null,
   "id": "initial-short",
   "metadata": {},
   "outputs": [],
   "source": [
    "# open depth data file, and create pandas dataframe\n",
    "with fs.open(flist[0], 'rb') as f: \n",
    "    \n",
    "    df = pd.read_csv(f, sep=',', header=0, parse_dates=[[2,3]]) #parse the date[2] and time[3] columns such that they are read in as datetime dtypes\n",
    "    \n",
    "print('file has been read, and is ready to use.')"
   ]
  },
  {
   "cell_type": "code",
   "execution_count": null,
   "id": "killing-detection",
   "metadata": {},
   "outputs": [],
   "source": [
    "# check data types for each column\n",
    "df.dtypes"
   ]
  },
  {
   "cell_type": "markdown",
   "id": "parallel-decimal",
   "metadata": {},
   "source": [
    "### Prep for Data Analysis"
   ]
  },
  {
   "cell_type": "code",
   "execution_count": null,
   "id": "comprehensive-novel",
   "metadata": {},
   "outputs": [],
   "source": [
    "# rename some columns for ease further down\n",
    "df.rename(columns = {\n",
    "    'Measurement Tool (MP = Magnaprobe; M2 = Mesa 2; PR = Pit Ruler)':'Measurement Tool', \n",
    "    'Date (yyyymmdd)_Time (hh:mm, local, MST)': \"Datetime\"},\n",
    "          inplace = True)\n",
    "\n",
    "# set up filter for IOP date range\n",
    "start = pd.to_datetime('1/28/2020') #first day of GM IOP campaign\n",
    "end   = pd.to_datetime('2/12/2020') #last day of GM IOP campaign\n",
    "\n",
    "# filter the IOP date range\n",
    "df = df[(df['Datetime'] >= start) & (df['Datetime'] <= end)]\n",
    "\n",
    "print('DataFrame shape is: ', df.shape)\n",
    "df.head()"
   ]
  },
  {
   "cell_type": "markdown",
   "id": "destroyed-landing",
   "metadata": {},
   "source": [
    "#### Use .groupby() to sort the data set"
   ]
  },
  {
   "cell_type": "code",
   "execution_count": null,
   "id": "amateur-offering",
   "metadata": {},
   "outputs": [],
   "source": [
    "# group data by the measurement tool \n",
    "gb = df.groupby('Measurement Tool', as_index=False).mean().round(1)\n",
    "\n",
    "# show mean snow depth from each tool\n",
    "gb[['Measurement Tool', 'Depth (cm)']]"
   ]
  },
  {
   "cell_type": "markdown",
   "id": "thirty-aaron",
   "metadata": {},
   "source": [
    "#### ***Your turn***"
   ]
  },
  {
   "cell_type": "code",
   "execution_count": null,
   "id": "enormous-slide",
   "metadata": {},
   "outputs": [],
   "source": [
    "# group data by the snow pit ID\n",
    "\n",
    "\n",
    "# show mean snow depth around each snow pit\n",
    "\n",
    "\n",
    "#(hint: what is the pit id column called? If you're not sure you can use df.columns to see a list of column names. Consider using .head() to display only the first 5 returns)"
   ]
  },
  {
   "cell_type": "markdown",
   "id": "welcome-particle",
   "metadata": {},
   "source": [
    "#### Find depths associated with a certain measurement tool"
   ]
  },
  {
   "cell_type": "code",
   "execution_count": null,
   "id": "compound-treaty",
   "metadata": {},
   "outputs": [],
   "source": [
    "print('List of Measurement Tools: ', df['Measurement Tool'].unique())"
   ]
  },
  {
   "cell_type": "code",
   "execution_count": null,
   "id": "noticed-maryland",
   "metadata": {},
   "outputs": [],
   "source": [
    "r = df.loc[df['Measurement Tool'] == 'PR']\n",
    "print('DataFrame shape is: ', r.shape)\n",
    "r.head()"
   ]
  },
  {
   "cell_type": "markdown",
   "id": "received-storage",
   "metadata": {},
   "source": [
    "#### ***Your turn***"
   ]
  },
  {
   "cell_type": "code",
   "execution_count": null,
   "id": "right-contents",
   "metadata": {},
   "outputs": [],
   "source": [
    "# find all depths recorded by the Mesa2\n",
    "\n",
    "\n",
    "# (hint: copy/paste is your friend)"
   ]
  },
  {
   "cell_type": "markdown",
   "id": "transparent-interface",
   "metadata": {},
   "source": [
    "Let's make sure we all have the same pd.DataFrame() again"
   ]
  },
  {
   "cell_type": "code",
   "execution_count": null,
   "id": "weird-wyoming",
   "metadata": {},
   "outputs": [],
   "source": [
    "# pit ruler snow depths from Grand Mesa IOP\n",
    "r = df.loc[df['Measurement Tool'] == 'PR'] \n",
    "print( 'DataFrame is back to only pit ruler depths')"
   ]
  },
  {
   "cell_type": "markdown",
   "id": "centered-treasury",
   "metadata": {},
   "source": [
    "### Plotting"
   ]
  },
  {
   "cell_type": "code",
   "execution_count": null,
   "id": "cooperative-danger",
   "metadata": {},
   "outputs": [],
   "source": [
    "# plot pit ruler depths \n",
    "ax = r.plot(x='Easting', y='Northing', c='Depth (cm)', kind='scatter', alpha=0.7, colorbar=True, colormap='PuBu', legend=True)\n",
    "ax.set_title('Grand Mesa Pit Ruler Depths')\n",
    "ax.set_xlabel('Easting [m]')\n",
    "ax.set_ylabel('Northing [m]')\n",
    "plt.show()\n",
    "\n",
    "print('Notice the point on the far right - that is the \"GML\" or Grand Mesa Lodge pit where all instruments were deployed for a comparison study. pitID=GML')"
   ]
  },
  {
   "cell_type": "code",
   "execution_count": null,
   "id": "sorted-article",
   "metadata": {},
   "outputs": [],
   "source": [
    "# plot histogram of pit ruler depths\n",
    "ax = r['Depth (cm)'].plot.hist(bins=25)\n",
    "ax.grid()\n",
    "ax.set_title('Grand Mesa Pit Ruler Depths')\n",
    "ax.set_xlabel('Snow Depth (cm)')\n",
    "ax.set_ylabel('Frequency')"
   ]
  },
  {
   "cell_type": "markdown",
   "id": "modern-stick",
   "metadata": {},
   "source": [
    "## Download snow pit data from NSIDC\n",
    "From the SnowEx20 [Snow Pit Landing Page](https://nsidc.org/data/SNEX20_GM_SP/versions/1), you can download data and access the [User's Guide](https://nsidc.org/data/SNEX20_GM_SP/versions/1). \n",
    "\n",
    "<img src=\"images/SP-landingPage.png\">"
   ]
  },
  {
   "cell_type": "markdown",
   "id": "moving-angle",
   "metadata": {},
   "source": [
    "## Method 1: Programmatically download snow pit data from NSIDC"
   ]
  },
  {
   "cell_type": "code",
   "execution_count": 2,
   "id": "fewer-dietary",
   "metadata": {
    "collapsed": true,
    "jupyter": {
     "outputs_hidden": true
    }
   },
   "outputs": [
    {
     "name": "stdout",
     "output_type": "stream",
     "text": [
      "Querying for data:\n",
      "\thttps://cmr.earthdata.nasa.gov/search/granules.json?provider=NSIDC_ECS&sort_key[]=start_date&sort_key[]=producer_granule_id&scroll=true&page_size=2000&short_name=SNEX20_GM_SP&version=001&version=01&version=1&temporal[]=2020-01-27T00:00:00Z,2020-02-12T23:59:59Z&options[producer_granule_id][pattern]=true&producer_granule_id[]=*5N19*\n",
      "\n",
      "Found 1 matches.\n",
      "Downloading 20 files...\n"
     ]
    },
    {
     "name": "stdin",
     "output_type": "stream",
     "text": [
      "Earthdata username:  cpiske\n",
      "password:  ················\n"
     ]
    },
    {
     "name": "stdout",
     "output_type": "stream",
     "text": [
      "01/20: ./data/pits/SnowEx20_SnowPits_GMIOP_20200128_5N19_book1_v01.jpg\n",
      "\b  [===============                                             ]  25%  7.0MB/s   [==============================                              ]  50%  10.0MB/s   [=============================================               ]  75%  11.7MB/s   [============================================================] 100%  13.9MB/s   \n",
      "02/20: ./data/pits/SnowEx20_SnowPits_GMIOP_20200128_5N19_book2_v01.jpg\n",
      "\b  [===============                                             ]  25%  7.3MB/s   [==============================                              ]  50%  10.4MB/s   [=============================================               ]  75%  12.2MB/s   [============================================================] 100%  13.3MB/s   \n",
      "03/20: ./data/pits/SnowEx20_SnowPits_GMIOP_20200128_5N19_book_v01.jpg\n",
      "\b  [============                                                ]  20%  7.3MB/s   [========================                                    ]  40%  10.4MB/s   [====================================                        ]  60%  12.1MB/s   [================================================            ]  80%  12.3MB/s   [============================================================] 100%  15.2MB/s   \n",
      "04/20: ./data/pits/SnowEx20_SnowPits_GMIOP_20200128_5N19_density_v01.csv\n",
      "\b  [============================================================] 100%  498.7kB/s   \n",
      "05/20: ./data/pits/SnowEx20_SnowPits_GMIOP_20200128_5N19_east_v01.jpg\n",
      "\b  [==========                                                  ]  17%  7.3MB/s   [====================                                        ]  33%  10.5MB/s   [==============================                              ]  50%  12.2MB/s   [========================================                    ]  67%  13.3MB/s   [==================================================          ]  83%  13.2MB/s   [============================================================] 100%  14.6MB/s   \n",
      "06/20: ./data/pits/SnowEx20_SnowPits_GMIOP_20200128_5N19_LWC_v01.csv\n",
      "\b  [============================================================] 100%  661.9kB/s   \n",
      "07/20: ./data/pits/SnowEx20_SnowPits_GMIOP_20200128_5N19_north_v01.jpg\n",
      "\b  [==========                                                  ]  17%  6.9MB/s    [====================                                        ]  33%  9.9MB/s   [==============================                              ]  50%  11.5MB/s   [========================================                    ]  67%  11.6MB/s   [==================================================          ]  83%  12.4MB/s   [============================================================] 100%  13.9MB/s   \n",
      "08/20: ./data/pits/SnowEx20_SnowPits_GMIOP_20200128_5N19_pit1_v01.jpg\n",
      "\b  [==========                                                  ]  17%  7.0MB/s    [====================                                        ]  33%  9.9MB/s   [==============================                              ]  50%  11.5MB/s   [========================================                    ]  67%  11.6MB/s   [==================================================          ]  83%  12.4MB/s   [============================================================] 100%  13.0MB/s   \n",
      "09/20: ./data/pits/SnowEx20_SnowPits_GMIOP_20200128_5N19_pit2_v01.jpg\n",
      "\b  [==========                                                  ]  17%  7.5MB/s   [====================                                        ]  33%  10.7MB/s   [==============================                              ]  50%  12.5MB/s   [========================================                    ]  67%  12.6MB/s   [==================================================          ]  83%  13.4MB/s   [============================================================] 100%  14.1MB/s   \n",
      "10/20: ./data/pits/SnowEx20_SnowPits_GMIOP_20200128_5N19_pit_v01.jpg\n",
      "\b  [==========                                                  ]  17%  7.3MB/s   [====================                                        ]  33%  10.4MB/s   [==============================                              ]  50%  12.1MB/s   [========================================                    ]  67%  12.2MB/s   [==================================================          ]  83%  13.0MB/s   [============================================================] 100%  13.7MB/s   \n",
      "11/20: ./data/pits/SnowEx20_SnowPits_GMIOP_20200128_5N19_siteDetails_v01.csv\n",
      "\b  [============================================================] 100%  600.5kB/s   \n",
      "12/20: ./data/pits/SnowEx20_SnowPits_GMIOP_20200128_5N19_south_v01.jpg\n",
      "\b  [==========                                                  ]  17%  7.2MB/s   [====================                                        ]  33%  10.3MB/s   [==============================                              ]  50%  12.1MB/s   [========================================                    ]  67%  12.2MB/s   [==================================================          ]  83%  13.0MB/s   [============================================================] 100%  13.8MB/s   \n",
      "13/20: ./data/pits/SnowEx20_SnowPits_GMIOP_20200128_5N19_SSA_v01.jpg\n",
      "\b  [==========                                                  ]  17%  6.9MB/s    [====================                                        ]  33%  9.9MB/s   [==============================                              ]  50%  11.4MB/s   [========================================                    ]  67%  11.6MB/s   [==================================================          ]  83%  12.3MB/s   [============================================================] 100%  13.7MB/s   \n",
      "14/20: ./data/pits/SnowEx20_SnowPits_GMIOP_20200128_5N19_stratigraphy_v01.csv\n",
      "\b  [============================================================] 100%  581.4kB/s   \n",
      "15/20: ./data/pits/SnowEx20_SnowPits_GMIOP_20200128_5N19_temperature_v01.csv\n",
      "\b  [============================================================] 100%  363.4kB/s   \n",
      "16/20: ./data/pits/SnowEx20_SnowPits_GMIOP_20200128_5N19_up_v01.jpg\n",
      "\b  [==========                                                  ]  17%  7.5MB/s   [====================                                        ]  33%  10.7MB/s   [==============================                              ]  50%  12.4MB/s   [========================================                    ]  67%  12.6MB/s   [==================================================          ]  83%  13.4MB/s   [============================================================] 100%  16.0MB/s   \n",
      "17/20: ./data/pits/SnowEx20_SnowPits_GMIOP_20200128_5N19_v01.pdf\n",
      "\b  [============================================================] 100%  2.2MB/s   \n",
      "18/20: ./data/pits/SnowEx20_SnowPits_GMIOP_20200128_5N19_v01.xlsx\n",
      "\b  [============================================================] 100%  3.4MB/s   \n",
      "19/20: ./data/pits/SnowEx20_SnowPits_GMIOP_20200128_5N19_west_v01.jpg\n",
      "\b  [==========                                                  ]  17%  7.3MB/s   [====================                                        ]  33%  10.5MB/s   [==============================                              ]  50%  12.2MB/s   [========================================                    ]  67%  13.2MB/s   [==================================================          ]  83%  13.1MB/s   [============================================================] 100%  13.8MB/s   \n",
      "20/20: ./data/pits/SnowEx20_SnowPits_GMIOP_20200128_5N19.xml\n",
      "\b  [============================================================] 100%  9.4MB/s   \n",
      "Grand Mesa 2020 Snow Pit data download complete\n"
     ]
    }
   ],
   "source": [
    "# load snow pit data\n",
    "%run 'scripts/nsidc-download_SNEX20_GM_SP.001.py'\n",
    "print('Grand Mesa 2020 Snow Pit data download complete')"
   ]
  },
  {
   "cell_type": "code",
   "execution_count": null,
   "id": "changed-taxation",
   "metadata": {},
   "outputs": [],
   "source": []
  },
  {
   "cell_type": "code",
   "execution_count": 3,
   "id": "mobile-liabilities",
   "metadata": {},
   "outputs": [
    {
     "name": "stdout",
     "output_type": "stream",
     "text": [
      "0 SnowEx20_SnowPits_GMIOP_20200128_5N19_pit1_v01.jpg\n",
      "1 SnowEx20_SnowPits_GMIOP_20200128_5N19_stratigraphy_v01.csv\n",
      "2 SnowEx20_SnowPits_GMIOP_20200128_5N19_up_v01.jpg\n",
      "3 SnowEx20_SnowPits_GMIOP_20200128_5N19_east_v01.jpg\n",
      "4 SnowEx20_SnowPits_GMIOP_20200128_5N19_LWC_v01.csv\n",
      "5 SnowEx20_SnowPits_GMIOP_20200128_5N19_density_v01.csv\n",
      "6 SnowEx20_SnowPits_GMIOP_20200128_5N19_north_v01.jpg\n",
      "7 SnowEx20_SnowPits_GMIOP_20200128_5N19_SSA_v01.jpg\n",
      "8 SnowEx20_SnowPits_GMIOP_20200128_5N19_book2_v01.jpg\n",
      "9 SnowEx20_SnowPits_GMIOP_20200128_5N19_west_v01.jpg\n",
      "10 SnowEx20_SnowPits_GMIOP_20200128_5N19_siteDetails_v01.csv\n",
      "11 SnowEx20_SnowPits_GMIOP_20200128_5N19_pit_v01.jpg\n",
      "12 SnowEx20_SnowPits_GMIOP_20200128_5N19_temperature_v01.csv\n",
      "13 SnowEx20_SnowPits_GMIOP_20200128_5N19_v01.pdf\n",
      "14 SnowEx20_SnowPits_GMIOP_20200128_5N19_v01.xlsx\n",
      "15 SnowEx20_SnowPits_GMIOP_20200128_5N19_book_v01.jpg\n",
      "16 SnowEx20_SnowPits_GMIOP_20200128_5N19_book1_v01.jpg\n",
      "17 SnowEx20_SnowPits_GMIOP_20200128_5N19_south_v01.jpg\n",
      "18 SnowEx20_SnowPits_GMIOP_20200128_5N19_pit2_v01.jpg\n",
      "19 SnowEx20_SnowPits_GMIOP_20200128_5N19.xml\n"
     ]
    }
   ],
   "source": [
    "# show filenames\n",
    "path = Path('./data/pits/')\n",
    "\n",
    "for i, filename in enumerate(path.glob('*5N19*')):\n",
    "    print(i, filename.name)"
   ]
  },
  {
   "cell_type": "markdown",
   "id": "speaking-memphis",
   "metadata": {},
   "source": [
    "## Method 2: Access data from our shared resources server\n",
    "Again, quick access for hackweek or if you haven't gone through the steps to [configure programmatic access](https://snowex-hackweek.github.io/website/preliminary/earthdata.html#configure-programmatic-access-to-nasa-servers) to NASA servers yet. This pulls data from our AWS, S3 bucket"
   ]
  },
  {
   "cell_type": "code",
   "execution_count": 4,
   "id": "basic-unemployment",
   "metadata": {},
   "outputs": [
    {
     "data": {
      "text/plain": [
       "['snowex-data/tutorial-data/core-datasets/pits/SnowEx20_SnowPits_GMIOP_20200128_1N6_LWC_v01.csv',\n",
       " 'snowex-data/tutorial-data/core-datasets/pits/SnowEx20_SnowPits_GMIOP_20200128_1N6_density_v01.csv',\n",
       " 'snowex-data/tutorial-data/core-datasets/pits/SnowEx20_SnowPits_GMIOP_20200128_1N6_siteDetails_v01.csv',\n",
       " 'snowex-data/tutorial-data/core-datasets/pits/SnowEx20_SnowPits_GMIOP_20200128_1N6_stratigraphy_v01.csv',\n",
       " 'snowex-data/tutorial-data/core-datasets/pits/SnowEx20_SnowPits_GMIOP_20200128_1N6_temperature_v01.csv']"
      ]
     },
     "execution_count": 4,
     "metadata": {},
     "output_type": "execute_result"
    }
   ],
   "source": [
    "# Uses AWS credentials on machine\n",
    "fs = s3fs.S3FileSystem() \n",
    "\n",
    "# which data bucket?\n",
    "bucket = 'snowex-data'  \n",
    "      \n",
    "# contents inside /pits     \n",
    "flist = fs.ls(f'{bucket}/tutorial-data/core-datasets/pits/')\n",
    "\n",
    "# which files do we want?\n",
    "suffix='.csv'\n",
    "\n",
    "# list comprehension to get .csv files (not .xlsx or .jpgs)\n",
    "csv_files = [filename for filename in flist if filename.endswith(suffix)]\n",
    "csv_files[:5]"
   ]
  },
  {
   "cell_type": "markdown",
   "id": "declared-religious",
   "metadata": {},
   "source": [
    "### Don't want to work with all the files? Method to filter files"
   ]
  },
  {
   "cell_type": "code",
   "execution_count": 10,
   "id": "close-calcium",
   "metadata": {},
   "outputs": [],
   "source": [
    "# what files would you like to find?\n",
    "parameter = 'temperature'\n",
    "pitID = '5N19'\n",
    "date = '20200128'"
   ]
  },
  {
   "cell_type": "markdown",
   "id": "electrical-spirit",
   "metadata": {},
   "source": [
    "### Read the Pit Parameter File"
   ]
  },
  {
   "cell_type": "code",
   "execution_count": 11,
   "id": "charitable-vancouver",
   "metadata": {},
   "outputs": [
    {
     "data": {
      "text/html": [
       "<div>\n",
       "<style scoped>\n",
       "    .dataframe tbody tr th:only-of-type {\n",
       "        vertical-align: middle;\n",
       "    }\n",
       "\n",
       "    .dataframe tbody tr th {\n",
       "        vertical-align: top;\n",
       "    }\n",
       "\n",
       "    .dataframe thead th {\n",
       "        text-align: right;\n",
       "    }\n",
       "</style>\n",
       "<table border=\"1\" class=\"dataframe\">\n",
       "  <thead>\n",
       "    <tr style=\"text-align: right;\">\n",
       "      <th></th>\n",
       "      <th># Height (cm)</th>\n",
       "      <th>Temperature (deg C)</th>\n",
       "    </tr>\n",
       "  </thead>\n",
       "  <tbody>\n",
       "    <tr>\n",
       "      <th>0</th>\n",
       "      <td>102</td>\n",
       "      <td>-9.5</td>\n",
       "    </tr>\n",
       "    <tr>\n",
       "      <th>1</th>\n",
       "      <td>100</td>\n",
       "      <td>-9.4</td>\n",
       "    </tr>\n",
       "    <tr>\n",
       "      <th>2</th>\n",
       "      <td>90</td>\n",
       "      <td>-11.5</td>\n",
       "    </tr>\n",
       "    <tr>\n",
       "      <th>3</th>\n",
       "      <td>80</td>\n",
       "      <td>-7.5</td>\n",
       "    </tr>\n",
       "    <tr>\n",
       "      <th>4</th>\n",
       "      <td>70</td>\n",
       "      <td>-5.2</td>\n",
       "    </tr>\n",
       "    <tr>\n",
       "      <th>5</th>\n",
       "      <td>60</td>\n",
       "      <td>-4.1</td>\n",
       "    </tr>\n",
       "    <tr>\n",
       "      <th>6</th>\n",
       "      <td>50</td>\n",
       "      <td>-3.5</td>\n",
       "    </tr>\n",
       "    <tr>\n",
       "      <th>7</th>\n",
       "      <td>40</td>\n",
       "      <td>-3.0</td>\n",
       "    </tr>\n",
       "    <tr>\n",
       "      <th>8</th>\n",
       "      <td>30</td>\n",
       "      <td>-2.5</td>\n",
       "    </tr>\n",
       "    <tr>\n",
       "      <th>9</th>\n",
       "      <td>20</td>\n",
       "      <td>-2.1</td>\n",
       "    </tr>\n",
       "    <tr>\n",
       "      <th>10</th>\n",
       "      <td>10</td>\n",
       "      <td>-1.5</td>\n",
       "    </tr>\n",
       "    <tr>\n",
       "      <th>11</th>\n",
       "      <td>0</td>\n",
       "      <td>-0.8</td>\n",
       "    </tr>\n",
       "  </tbody>\n",
       "</table>\n",
       "</div>"
      ],
      "text/plain": [
       "    # Height (cm)  Temperature (deg C)\n",
       "0             102                 -9.5\n",
       "1             100                 -9.4\n",
       "2              90                -11.5\n",
       "3              80                 -7.5\n",
       "4              70                 -5.2\n",
       "5              60                 -4.1\n",
       "6              50                 -3.5\n",
       "7              40                 -3.0\n",
       "8              30                 -2.5\n",
       "9              20                 -2.1\n",
       "10             10                 -1.5\n",
       "11              0                 -0.8"
      ]
     },
     "execution_count": 11,
     "metadata": {},
     "output_type": "execute_result"
    }
   ],
   "source": [
    "with fs.open('/snowex-data/tutorial-data/core-datasets/pits/SnowEx20_SnowPits_GMIOP_{}_{}_{}_v01.csv'.format(date, pitID, parameter), 'rb') as f:\n",
    "    \n",
    "    t = pd.read_csv(f, header=7)\n",
    "t"
   ]
  },
  {
   "cell_type": "markdown",
   "id": "intended-effects",
   "metadata": {},
   "source": [
    "### Plotting"
   ]
  },
  {
   "cell_type": "code",
   "execution_count": 12,
   "id": "unavailable-copper",
   "metadata": {},
   "outputs": [
    {
     "data": {
      "text/plain": [
       "Text(0, 0.5, 'Snow Depth (cm)')"
      ]
     },
     "execution_count": 12,
     "metadata": {},
     "output_type": "execute_result"
    },
    {
     "data": {
      "image/png": "[encoded data removed]",
      "text/plain": [
       "<Figure size 576x396 with 1 Axes>"
      ]
     },
     "metadata": {
      "needs_background": "light"
     },
     "output_type": "display_data"
    }
   ],
   "source": [
    "# plot temperature\n",
    "ax = t.plot(x='Temperature (deg C)',y='# Height (cm)', legend=False)\n",
    "ax.set_aspect(0.4)\n",
    "ax.grid()\n",
    "ax.set_title('pit {}: Temperature Profile'.format(pitID))\n",
    "ax.set_xlabel('Temperature (deg C)')\n",
    "ax.set_ylabel('Snow Depth (cm)')"
   ]
  },
  {
   "cell_type": "code",
   "execution_count": 13,
   "id": "pursuant-article",
   "metadata": {},
   "outputs": [
    {
     "data": {
      "text/html": [
       "<div>\n",
       "<style scoped>\n",
       "    .dataframe tbody tr th:only-of-type {\n",
       "        vertical-align: middle;\n",
       "    }\n",
       "\n",
       "    .dataframe tbody tr th {\n",
       "        vertical-align: top;\n",
       "    }\n",
       "\n",
       "    .dataframe thead th {\n",
       "        text-align: right;\n",
       "    }\n",
       "</style>\n",
       "<table border=\"1\" class=\"dataframe\">\n",
       "  <thead>\n",
       "    <tr style=\"text-align: right;\">\n",
       "      <th></th>\n",
       "      <th># Top (cm)</th>\n",
       "      <th>Bottom (cm)</th>\n",
       "      <th>Density A (kg/m3)</th>\n",
       "      <th>Density B (kg/m3)</th>\n",
       "      <th>Density C (kg/m3)</th>\n",
       "    </tr>\n",
       "  </thead>\n",
       "  <tbody>\n",
       "    <tr>\n",
       "      <th>0</th>\n",
       "      <td>102.0</td>\n",
       "      <td>92.0</td>\n",
       "      <td>136.0</td>\n",
       "      <td>138.0</td>\n",
       "      <td>NaN</td>\n",
       "    </tr>\n",
       "    <tr>\n",
       "      <th>1</th>\n",
       "      <td>92.0</td>\n",
       "      <td>82.0</td>\n",
       "      <td>193.0</td>\n",
       "      <td>192.0</td>\n",
       "      <td>NaN</td>\n",
       "    </tr>\n",
       "    <tr>\n",
       "      <th>2</th>\n",
       "      <td>82.0</td>\n",
       "      <td>72.0</td>\n",
       "      <td>232.0</td>\n",
       "      <td>221.0</td>\n",
       "      <td>NaN</td>\n",
       "    </tr>\n",
       "    <tr>\n",
       "      <th>3</th>\n",
       "      <td>72.0</td>\n",
       "      <td>62.0</td>\n",
       "      <td>262.0</td>\n",
       "      <td>260.0</td>\n",
       "      <td>NaN</td>\n",
       "    </tr>\n",
       "    <tr>\n",
       "      <th>4</th>\n",
       "      <td>62.0</td>\n",
       "      <td>52.0</td>\n",
       "      <td>275.0</td>\n",
       "      <td>278.0</td>\n",
       "      <td>NaN</td>\n",
       "    </tr>\n",
       "    <tr>\n",
       "      <th>5</th>\n",
       "      <td>52.0</td>\n",
       "      <td>42.0</td>\n",
       "      <td>261.0</td>\n",
       "      <td>252.0</td>\n",
       "      <td>NaN</td>\n",
       "    </tr>\n",
       "    <tr>\n",
       "      <th>6</th>\n",
       "      <td>42.0</td>\n",
       "      <td>32.0</td>\n",
       "      <td>267.0</td>\n",
       "      <td>269.0</td>\n",
       "      <td>NaN</td>\n",
       "    </tr>\n",
       "    <tr>\n",
       "      <th>7</th>\n",
       "      <td>32.0</td>\n",
       "      <td>22.0</td>\n",
       "      <td>336.0</td>\n",
       "      <td>367.0</td>\n",
       "      <td>NaN</td>\n",
       "    </tr>\n",
       "    <tr>\n",
       "      <th>8</th>\n",
       "      <td>22.0</td>\n",
       "      <td>12.0</td>\n",
       "      <td>268.0</td>\n",
       "      <td>246.0</td>\n",
       "      <td>NaN</td>\n",
       "    </tr>\n",
       "    <tr>\n",
       "      <th>9</th>\n",
       "      <td>12.0</td>\n",
       "      <td>2.0</td>\n",
       "      <td>262.0</td>\n",
       "      <td>271.0</td>\n",
       "      <td>NaN</td>\n",
       "    </tr>\n",
       "  </tbody>\n",
       "</table>\n",
       "</div>"
      ],
      "text/plain": [
       "   # Top (cm)  Bottom (cm)  Density A (kg/m3)  Density B (kg/m3)  \\\n",
       "0       102.0         92.0              136.0              138.0   \n",
       "1        92.0         82.0              193.0              192.0   \n",
       "2        82.0         72.0              232.0              221.0   \n",
       "3        72.0         62.0              262.0              260.0   \n",
       "4        62.0         52.0              275.0              278.0   \n",
       "5        52.0         42.0              261.0              252.0   \n",
       "6        42.0         32.0              267.0              269.0   \n",
       "7        32.0         22.0              336.0              367.0   \n",
       "8        22.0         12.0              268.0              246.0   \n",
       "9        12.0          2.0              262.0              271.0   \n",
       "\n",
       "   Density C (kg/m3)  \n",
       "0                NaN  \n",
       "1                NaN  \n",
       "2                NaN  \n",
       "3                NaN  \n",
       "4                NaN  \n",
       "5                NaN  \n",
       "6                NaN  \n",
       "7                NaN  \n",
       "8                NaN  \n",
       "9                NaN  "
      ]
     },
     "execution_count": 13,
     "metadata": {},
     "output_type": "execute_result"
    }
   ],
   "source": [
    "# grab a different pit parameter file\n",
    "parameter = 'density'\n",
    "with fs.open('/snowex-data/tutorial-data/core-datasets/pits/SnowEx20_SnowPits_GMIOP_{}_{}_{}_v01.csv'.format(date, pitID, parameter), 'rb') as f:\n",
    "\n",
    "    d = pd.read_csv(f, header=7)\n",
    "d"
   ]
  },
  {
   "cell_type": "code",
   "execution_count": 14,
   "id": "minus-emerald",
   "metadata": {},
   "outputs": [
    {
     "data": {
      "text/html": [
       "<div>\n",
       "<style scoped>\n",
       "    .dataframe tbody tr th:only-of-type {\n",
       "        vertical-align: middle;\n",
       "    }\n",
       "\n",
       "    .dataframe tbody tr th {\n",
       "        vertical-align: top;\n",
       "    }\n",
       "\n",
       "    .dataframe thead th {\n",
       "        text-align: right;\n",
       "    }\n",
       "</style>\n",
       "<table border=\"1\" class=\"dataframe\">\n",
       "  <thead>\n",
       "    <tr style=\"text-align: right;\">\n",
       "      <th></th>\n",
       "      <th># Top (cm)</th>\n",
       "      <th>Bottom (cm)</th>\n",
       "      <th>Density A (kg/m3)</th>\n",
       "      <th>Density B (kg/m3)</th>\n",
       "      <th>Density C (kg/m3)</th>\n",
       "      <th>Avg Density (kg/m3)</th>\n",
       "    </tr>\n",
       "  </thead>\n",
       "  <tbody>\n",
       "    <tr>\n",
       "      <th>0</th>\n",
       "      <td>102.0</td>\n",
       "      <td>92.0</td>\n",
       "      <td>136.0</td>\n",
       "      <td>138.0</td>\n",
       "      <td>NaN</td>\n",
       "      <td>137.0</td>\n",
       "    </tr>\n",
       "    <tr>\n",
       "      <th>1</th>\n",
       "      <td>92.0</td>\n",
       "      <td>82.0</td>\n",
       "      <td>193.0</td>\n",
       "      <td>192.0</td>\n",
       "      <td>NaN</td>\n",
       "      <td>192.5</td>\n",
       "    </tr>\n",
       "    <tr>\n",
       "      <th>2</th>\n",
       "      <td>82.0</td>\n",
       "      <td>72.0</td>\n",
       "      <td>232.0</td>\n",
       "      <td>221.0</td>\n",
       "      <td>NaN</td>\n",
       "      <td>226.5</td>\n",
       "    </tr>\n",
       "    <tr>\n",
       "      <th>3</th>\n",
       "      <td>72.0</td>\n",
       "      <td>62.0</td>\n",
       "      <td>262.0</td>\n",
       "      <td>260.0</td>\n",
       "      <td>NaN</td>\n",
       "      <td>261.0</td>\n",
       "    </tr>\n",
       "    <tr>\n",
       "      <th>4</th>\n",
       "      <td>62.0</td>\n",
       "      <td>52.0</td>\n",
       "      <td>275.0</td>\n",
       "      <td>278.0</td>\n",
       "      <td>NaN</td>\n",
       "      <td>276.5</td>\n",
       "    </tr>\n",
       "    <tr>\n",
       "      <th>5</th>\n",
       "      <td>52.0</td>\n",
       "      <td>42.0</td>\n",
       "      <td>261.0</td>\n",
       "      <td>252.0</td>\n",
       "      <td>NaN</td>\n",
       "      <td>256.5</td>\n",
       "    </tr>\n",
       "    <tr>\n",
       "      <th>6</th>\n",
       "      <td>42.0</td>\n",
       "      <td>32.0</td>\n",
       "      <td>267.0</td>\n",
       "      <td>269.0</td>\n",
       "      <td>NaN</td>\n",
       "      <td>268.0</td>\n",
       "    </tr>\n",
       "    <tr>\n",
       "      <th>7</th>\n",
       "      <td>32.0</td>\n",
       "      <td>22.0</td>\n",
       "      <td>336.0</td>\n",
       "      <td>367.0</td>\n",
       "      <td>NaN</td>\n",
       "      <td>351.5</td>\n",
       "    </tr>\n",
       "    <tr>\n",
       "      <th>8</th>\n",
       "      <td>22.0</td>\n",
       "      <td>12.0</td>\n",
       "      <td>268.0</td>\n",
       "      <td>246.0</td>\n",
       "      <td>NaN</td>\n",
       "      <td>257.0</td>\n",
       "    </tr>\n",
       "    <tr>\n",
       "      <th>9</th>\n",
       "      <td>12.0</td>\n",
       "      <td>2.0</td>\n",
       "      <td>262.0</td>\n",
       "      <td>271.0</td>\n",
       "      <td>NaN</td>\n",
       "      <td>266.5</td>\n",
       "    </tr>\n",
       "  </tbody>\n",
       "</table>\n",
       "</div>"
      ],
      "text/plain": [
       "   # Top (cm)  Bottom (cm)  Density A (kg/m3)  Density B (kg/m3)  \\\n",
       "0       102.0         92.0              136.0              138.0   \n",
       "1        92.0         82.0              193.0              192.0   \n",
       "2        82.0         72.0              232.0              221.0   \n",
       "3        72.0         62.0              262.0              260.0   \n",
       "4        62.0         52.0              275.0              278.0   \n",
       "5        52.0         42.0              261.0              252.0   \n",
       "6        42.0         32.0              267.0              269.0   \n",
       "7        32.0         22.0              336.0              367.0   \n",
       "8        22.0         12.0              268.0              246.0   \n",
       "9        12.0          2.0              262.0              271.0   \n",
       "\n",
       "   Density C (kg/m3)  Avg Density (kg/m3)  \n",
       "0                NaN                137.0  \n",
       "1                NaN                192.5  \n",
       "2                NaN                226.5  \n",
       "3                NaN                261.0  \n",
       "4                NaN                276.5  \n",
       "5                NaN                256.5  \n",
       "6                NaN                268.0  \n",
       "7                NaN                351.5  \n",
       "8                NaN                257.0  \n",
       "9                NaN                266.5  "
      ]
     },
     "execution_count": 14,
     "metadata": {},
     "output_type": "execute_result"
    }
   ],
   "source": [
    "# get the average density \n",
    "d['Avg Density (kg/m3)'] = d[['Density A (kg/m3)', 'Density B (kg/m3)', 'Density C (kg/m3)']].mean(axis=1, skipna=True)\n",
    "d"
   ]
  },
  {
   "cell_type": "code",
   "execution_count": 15,
   "id": "biblical-bacon",
   "metadata": {},
   "outputs": [
    {
     "data": {
      "text/plain": [
       "Text(0, 0.5, 'Snow Depth (cm)')"
      ]
     },
     "execution_count": 15,
     "metadata": {},
     "output_type": "execute_result"
    },
    {
     "data": {
      "image/png": "[encoded data removed]",
      "text/plain": [
       "<Figure size 576x396 with 1 Axes>"
      ]
     },
     "metadata": {
      "needs_background": "light"
     },
     "output_type": "display_data"
    }
   ],
   "source": [
    "def plot_density(ax, dataframe):\n",
    "    \n",
    "    '''\n",
    "    This function helps you plot density profiles from snow pits. Use it to iterate through \n",
    "    DataFrame rows and plot the density for each top and bottom segment.\n",
    "    \n",
    "    '''\n",
    "    \n",
    "    for index, row in dataframe.iterrows():\n",
    "        # plot blue bars to represent 10cm density intervals\n",
    "        top = row['# Top (cm)']\n",
    "        bottom = row['Bottom (cm)']\n",
    "        dens = row[\"Avg Density (kg/m3)\"]\n",
    "        ax.plot([dens, dens],[bottom, top], color='blue', linewidth=4)\n",
    "\n",
    "        # plot a red cross to show the spread between A and B samples\n",
    "        densA = row[\"Density A (kg/m3)\"]\n",
    "        densB = row[\"Density B (kg/m3)\"]\n",
    "        middle = bottom + 5.\n",
    "        ax.plot([densA, densB],[middle,middle], color='red')\n",
    "        \n",
    "    return ax\n",
    "\n",
    "fig, ax = plt.subplots()\n",
    "ax = plot_density(ax, d)\n",
    "ax.set_xlim(50, 400)\n",
    "ax.set_ylim(0, 140)\n",
    "ax.grid(color='lightgray', alpha=.5)\n",
    "ax.set_aspect(2)\n",
    "ax.set_title('pit {}: Density Profile'.format(pitID))\n",
    "ax.set_xlabel('Density kg/m3')\n",
    "ax.set_ylabel('Snow Depth (cm)')   "
   ]
  },
  {
   "cell_type": "code",
   "execution_count": null,
   "id": "automotive-annex",
   "metadata": {},
   "outputs": [],
   "source": []
  }
 ],
 "metadata": {
  "kernelspec": {
   "display_name": "Python 3",
   "language": "python",
   "name": "python3"
  },
  "language_info": {
   "codemirror_mode": {
    "name": "ipython",
    "version": 3
   },
   "file_extension": ".py",
   "mimetype": "text/x-python",
   "name": "python",
   "nbconvert_exporter": "python",
   "pygments_lexer": "ipython3",
   "version": "3.8.8"
  }
 },
 "nbformat": 4,
 "nbformat_minor": 5
}
